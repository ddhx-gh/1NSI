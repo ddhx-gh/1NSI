{
 "cells": [
  {
   "cell_type": "markdown",
   "metadata": {},
   "source": [
    "#  <span style=\"color: #204f78\"><center><font size=\"6\">Tri d'une table</font></center></span>"
   ]
  },
  {
   "cell_type": "markdown",
   "metadata": {},
   "source": [
    "<figure style=\"float: left;\">\n",
    "    <img src=\"https://github.com/ddhx-gh/1NSI/blob/b84a539e631f3a2be25bcb76a390c4b00fff8c06/logo2.png?raw=true\" width=\"150\">\n",
    "</figure>\n",
    "\n",
    "\n",
    "<BLOCKQUOTE style='background-color:#fff3ff;'>    \n",
    "\n",
    "Objectifs : à l'issue de ce notebook, vous saurez :\n",
    "- la différence entre les méthodes sort() et sorted() pour trier des tableaux,\n",
    "- trier un tableau suivant un critère.\n",
    "    \n",
    "</BLOCKQUOTE>   "
   ]
  },
  {
   "cell_type": "markdown",
   "metadata": {},
   "source": [
    "## <span style=\"color: #337dbd\">Introduction </span>"
   ]
  },
  {
   "cell_type": "markdown",
   "metadata": {},
   "source": [
    "Il existe de nombreuses façons et d'algorithmes, de trier des données. \n",
    "\n",
    "Sans rentrer dans le détail de la méthode utilisée, Python propose fondamentalement deux fonctions :\n",
    "* ``sort`` : trie une liste en place. C'est une méthode de l'objet liste. On l'utilise en tapant ``liste.sort()``\n",
    "* ``sorted`` : trie une liste et renvoie le résultat trié. La liste de départ n'est pas modifiée. On fait ``litse_triee = sorted(liste)``"
   ]
  },
  {
   "cell_type": "markdown",
   "metadata": {},
   "source": [
    "Nous allons travailler sur un petit fichier pour plus de facilité, avant de retourner travailler sur les données de prénoms.\n",
    "Vous disposez d'un fichier planetes.csv qui recence quelques caractériqtiques des planètes du système solaire."
   ]
  },
  {
   "cell_type": "markdown",
   "metadata": {},
   "source": [
    "1. Importez les données du fichier planete.csv dans un tableau de tableaux nommé planetes (il peut être judicieux d'aller voir ce que contient le fichier csv avec un editeur de texte basique) :"
   ]
  },
  {
   "cell_type": "code",
   "execution_count": null,
   "metadata": {},
   "outputs": [],
   "source": [
    "planetes = []\n",
    "\n",
    "with open(\"planetes.csv\", \"r\", encoding = \"utf-8-sig\") as fichier :\n",
    "    fichier.readline()\n",
    "    for ligne in fichier :\n",
    "        valeurs = ligne.split(\";\")\n",
    "        entree = []\n",
    "        for i in range(len(valeurs)) :\n",
    "            if i == 0 :                              # la premiere valeur est du texte\n",
    "                entree.append(valeurs[i])\n",
    "            else :\n",
    "                entree.append(float(valeurs[i]))     # les autres sont des float\n",
    "        planetes.append(entree)\n",
    "\n",
    "planetes"
   ]
  },
  {
   "cell_type": "markdown",
   "metadata": {},
   "source": [
    "2. Triez \"en place\" le tableau ``planetes`` :"
   ]
  },
  {
   "cell_type": "code",
   "execution_count": null,
   "metadata": {},
   "outputs": [],
   "source": [
    "planetes.sort()\n",
    "planetes"
   ]
  },
  {
   "cell_type": "markdown",
   "metadata": {},
   "source": [
    "Vous voyez qu'ici, le tableau planetes a été écrasé par une nouvelle version, triée suivant les données de la première colonne c'est à dire par ordre alphabétique des noms de planètes."
   ]
  },
  {
   "cell_type": "markdown",
   "metadata": {},
   "source": [
    "3. Relancez la construction du tableau planetes avec l'import csv puis triez maintenant le tableau ``planetes`` dans un tableau planetes_alpha, sans modifier le tableau de départ :"
   ]
  },
  {
   "cell_type": "code",
   "execution_count": null,
   "metadata": {},
   "outputs": [],
   "source": [
    "planetes_alpha=sorted(planetes)\n",
    "planetes_alpha"
   ]
  },
  {
   "cell_type": "code",
   "execution_count": null,
   "metadata": {},
   "outputs": [],
   "source": [
    "planetes"
   ]
  },
  {
   "cell_type": "markdown",
   "metadata": {},
   "source": [
    "C'est bien beau tout ça, mais comment trier le tableau suivant un critère de masse ou de diamètre?"
   ]
  },
  {
   "cell_type": "markdown",
   "metadata": {},
   "source": [
    "En reprenant la fonction sorted, on va préciser une \"clé\" de tri.\n",
    "La syntaxe devient ``liste_triee = sorted (liste , key = clé )``"
   ]
  },
  {
   "cell_type": "markdown",
   "metadata": {},
   "source": [
    "La clé est le retour d'une fonction que vous devez écrire, et qui renvoie le paramètre que vous souhaitez utiliser pour le tri.\n",
    "Par exemple, si on veut trier suivant le diamètre, qui, dans le tableau planètes a pour indice 3 :"
   ]
  },
  {
   "cell_type": "code",
   "execution_count": null,
   "metadata": {},
   "outputs": [],
   "source": [
    "def diam(tab):\n",
    "    return tab[3]"
   ]
  },
  {
   "cell_type": "markdown",
   "metadata": {},
   "source": [
    "la fonction tri devient ainsi :"
   ]
  },
  {
   "cell_type": "code",
   "execution_count": null,
   "metadata": {},
   "outputs": [],
   "source": [
    "planetes_tri_diam = sorted ( planetes , key = diam )\n",
    "planetes_tri_diam"
   ]
  },
  {
   "cell_type": "markdown",
   "metadata": {},
   "source": [
    "Le tri se fait par défaut dans l'ordre croissant. \n",
    "Vous pouvez trier dans l'ordre décroissant en ajoutant l'argument ``reverse = True`` :"
   ]
  },
  {
   "cell_type": "code",
   "execution_count": null,
   "metadata": {},
   "outputs": [],
   "source": [
    "planetes_tri_diam =sorted ( planetes , key = diam , reverse = True )\n",
    "planetes_tri_diam"
   ]
  },
  {
   "cell_type": "markdown",
   "metadata": {},
   "source": [
    "### <span style=\"color: #ce0000\">Exercice 1.1 </span>"
   ]
  },
  {
   "cell_type": "markdown",
   "metadata": {},
   "source": [
    "Trier le tableau de planètes par distance au soleil, par ordre décroissant."
   ]
  },
  {
   "cell_type": "code",
   "execution_count": null,
   "metadata": {},
   "outputs": [],
   "source": []
  },
  {
   "cell_type": "markdown",
   "metadata": {},
   "source": [
    "### <span style=\"color: #ce0000\">Exercice 1.2 </span>"
   ]
  },
  {
   "cell_type": "code",
   "execution_count": null,
   "metadata": {},
   "outputs": [],
   "source": [
    "Trier le tableau de planètes en fonction de leur masse, par ordre croissant."
   ]
  },
  {
   "cell_type": "code",
   "execution_count": null,
   "metadata": {},
   "outputs": [],
   "source": []
  },
  {
   "cell_type": "markdown",
   "metadata": {},
   "source": [
    "## <span style=\"color: #337dbd\">Revenons à nos prénoms </span>"
   ]
  },
  {
   "cell_type": "markdown",
   "metadata": {},
   "source": [
    "Je vous rappelle que vous devez travailler avec l'environnement suivant : ce notebook C3-tri_table_ELEVE.ipynb et le fichier nat2018.csv dans un même dossier."
   ]
  },
  {
   "cell_type": "markdown",
   "metadata": {},
   "source": [
    "Vous pouvez à nouveau importer le fichier csv en exécutant le code ci-dessous. \n",
    "Je rappelle que l'on a créé une liste nommée prenoms qui contient elle même une liste pour chaque prénom."
   ]
  },
  {
   "cell_type": "code",
   "execution_count": null,
   "metadata": {},
   "outputs": [],
   "source": [
    "# Votre code\n",
    "prenoms = []\n",
    "\n",
    "with open(\"nat2018.csv\", \"r\", encoding = \"utf-8-sig\") as fichier :\n",
    "    fichier.readline()\n",
    "    for ligne in fichier :\n",
    "        valeurs = ligne.split(\";\")\n",
    "        entree = []\n",
    "        for i in range(len(valeurs)) :\n",
    "            if i < 2 :\n",
    "                entree.append(valeurs[i])\n",
    "            else :\n",
    "                entree.append(int(valeurs[i]))\n",
    "        prenoms.append(entree)\n",
    "\n",
    "prenoms"
   ]
  },
  {
   "cell_type": "markdown",
   "metadata": {},
   "source": [
    "### <span style=\"color: #ce0000\">Pour s'entraîner... </span>"
   ]
  },
  {
   "cell_type": "markdown",
   "metadata": {},
   "source": [
    "Après avoir créé une fonction pour définir la clé de tri, trier sans l'écraser le tableau prénom suivant le nombre d'occurences, par ordre décroissant. Vous connaitrez ainsi les prénoms masculins et féminins qui ont battus tous les records, et l'année correspondante !"
   ]
  },
  {
   "cell_type": "code",
   "execution_count": null,
   "metadata": {},
   "outputs": [],
   "source": []
  },
  {
   "cell_type": "markdown",
   "metadata": {},
   "source": [
    "###  <span style=\"color: #ce0000\">Exercice de synthèse, avec support graphique</span>"
   ]
  },
  {
   "attachments": {
    "ex.png": {
     "image/png": "[encoded data removed]"
    }
   },
   "cell_type": "markdown",
   "metadata": {},
   "source": [
    "Vous devez créer un graphique avec le top 20 des prénoms (garçon ou fille, à vous de choisir) attribués l'année de votre naissance. \n",
    "\n",
    "Exemple, pour les garçons de l'année 1976, on veut obtenir ceci :\n",
    "\n",
    "![ex.png](attachment:ex.png)\n",
    "\n",
    "\n",
    "Indications :\n",
    "1. créez un tableau ``prenom_annee`` qui contient tous les éléments du tableau ``prénoms`` pour les garçons de l'année considérée,\n",
    "2. créez une fonction ``nbre(l)`` qui prend comme argument un tableau l et renvoie le nombre d'attributions du prénom,\n",
    "3. triez le tableau obtenu par ordre décroissant d'attribution du prénom, on obtient alors un ``prenom_annee_tri``\n",
    "4. créez un tableau qui ne contient que les 20 premiers éléments de ``prenom_annee_tri``\n",
    "5. faites le graphique demandé. Vous pourrez effectuer une rotation de la légende en abscisse avec la commande plt.xticks(rotation=75)"
   ]
  },
  {
   "cell_type": "code",
   "execution_count": null,
   "metadata": {},
   "outputs": [],
   "source": []
  }
 ],
 "metadata": {
  "kernelspec": {
   "display_name": "Python 3",
   "language": "python",
   "name": "python3"
  },
  "language_info": {
   "codemirror_mode": {
    "name": "ipython",
    "version": 3
   },
   "file_extension": ".py",
   "mimetype": "text/x-python",
   "name": "python",
   "nbconvert_exporter": "python",
   "pygments_lexer": "ipython3",
   "version": "3.7.6"
  }
 },
 "nbformat": 4,
 "nbformat_minor": 4
}
