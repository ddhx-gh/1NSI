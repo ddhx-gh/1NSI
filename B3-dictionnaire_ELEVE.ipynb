{
 "cells": [
  {
   "cell_type": "markdown",
   "metadata": {},
   "source": [
    "# <span style=\"color: #204f78\"><center><font size=\"6\">Un autre type construit : le dictionnaire</font></center></span>"
   ]
  },
  {
   "cell_type": "markdown",
   "metadata": {},
   "source": [
    "<figure style=\"float: left;\">\n",
    "    <img src=\"https://github.com/ddhx-gh/1NSI/blob/b84a539e631f3a2be25bcb76a390c4b00fff8c06/logo2.png?raw=true\" width=\"150\">\n",
    "</figure>\n",
    "\n",
    "\n",
    "<BLOCKQUOTE style='background-color:#fff3ff;'>    \n",
    "\n",
    "Objectifs : à l'issue de ce notebook, vous saurez :\n",
    "- ce qu'est un dictionnaire\n",
    "- créer / modifier un dictionnaire\n",
    "- parcourir un dictionnaire\n",
    "    \n",
    "</BLOCKQUOTE>   "
   ]
  },
  {
   "cell_type": "markdown",
   "metadata": {},
   "source": [
    "## <span style=\"color: #337dbd\">Première partie : définition </span>"
   ]
  },
  {
   "cell_type": "markdown",
   "metadata": {},
   "source": [
    "Comme on l’a vu avec les listes et les tuples, à partir des types de base (int, float, etc.) il est possible d’élaborer de nouveaux types qu’on appelle des types construits.\n",
    "\n",
    "Un nouvel exemple de type construit est le dictionnaire.\n",
    "\n",
    "Les éléments d’une liste ou d’un tuple sont ordonnés et on accéde à un élément grâce à sa position en utilisant un numéro qu’on appelle l’indice de l’élément.\n",
    "\n",
    "Un dictionnaire en Python va aussi permettre de rassembler des éléments mais ceux-ci seront identifiés par une clé, il n'y a pas de notion d'ordre et d'indice dans un dictionnaire. \n",
    "\n",
    "Contrairement aux listes qui sont délimitées par des crochets, on utilise des accolades pour les dictionnaires.\n",
    "\n",
    "En voici un exemple :"
   ]
  },
  {
   "cell_type": "code",
   "execution_count": null,
   "metadata": {},
   "outputs": [],
   "source": [
    "eleve = {\"Nom\" : \"Dupont\", \"Prénom\" : \"Jean\", \"Classe\" : \"1e6\", \"Note\" : 15} "
   ]
  },
  {
   "cell_type": "code",
   "execution_count": null,
   "metadata": {},
   "outputs": [],
   "source": [
    "eleve"
   ]
  },
  {
   "cell_type": "markdown",
   "metadata": {},
   "source": [
    "On peut vérifier que eleve est bien un dictionnaire en vérifiant son type :"
   ]
  },
  {
   "cell_type": "code",
   "execution_count": null,
   "metadata": {},
   "outputs": [],
   "source": [
    "type(eleve)"
   ]
  },
  {
   "cell_type": "markdown",
   "metadata": {},
   "source": [
    "On peut déterminer le nombre d'entrées d'un dictionnaire avec len() "
   ]
  },
  {
   "cell_type": "code",
   "execution_count": null,
   "metadata": {},
   "outputs": [],
   "source": [
    "len(eleve)"
   ]
  },
  {
   "cell_type": "markdown",
   "metadata": {},
   "source": [
    "## <span style=\"color: #337dbd\"> Deuxième partie : parcours d'un dictionnaire par clé - valeur</span>"
   ]
  },
  {
   "cell_type": "markdown",
   "metadata": {},
   "source": [
    "Les dictionnaires sont constitués de couples **(clé : valeur)**.\n",
    "\n",
    "On peut parcourir un dictionnaire en utilisant une boucle for. Par défaut on \"itère\" sur les clés :"
   ]
  },
  {
   "cell_type": "code",
   "execution_count": null,
   "metadata": {},
   "outputs": [],
   "source": [
    "for cle in eleve:\n",
    "    print(cle)"
   ]
  },
  {
   "cell_type": "markdown",
   "metadata": {},
   "source": [
    "<BLOCKQUOTE style='background-color:#abd3d0;'>    \n",
    "\n",
    "**NOTE :**\n",
    "```cle``` aurait tout aussi bien pu s'appeler *toto*...\n",
    "</BLOCKQUOTE>   "
   ]
  },
  {
   "cell_type": "markdown",
   "metadata": {},
   "source": [
    "Si on veut parcourir les valeurs du dictionnaire :"
   ]
  },
  {
   "cell_type": "code",
   "execution_count": null,
   "metadata": {},
   "outputs": [],
   "source": [
    "for cle in eleve:\n",
    "    print(eleve[cle])"
   ]
  },
  {
   "cell_type": "markdown",
   "metadata": {},
   "source": [
    "On peut aussi parcourir les clés d'un dictionnaire avec la méthode keys() :"
   ]
  },
  {
   "cell_type": "code",
   "execution_count": null,
   "metadata": {},
   "outputs": [],
   "source": [
    "eleve.keys()"
   ]
  },
  {
   "cell_type": "markdown",
   "metadata": {},
   "source": [
    "Et parcourir les valeurs d'un dictionnaire avec la méthode values() :"
   ]
  },
  {
   "cell_type": "code",
   "execution_count": null,
   "metadata": {},
   "outputs": [],
   "source": [
    "eleve.values()"
   ]
  },
  {
   "cell_type": "markdown",
   "metadata": {},
   "source": [
    "On peut aussi afficher l'ensemble des couples clé / valeurs :"
   ]
  },
  {
   "cell_type": "code",
   "execution_count": null,
   "metadata": {},
   "outputs": [],
   "source": [
    "eleve.items()"
   ]
  },
  {
   "cell_type": "markdown",
   "metadata": {},
   "source": [
    "## <span style=\"color: #337dbd\">Troisième partie : modification d'un dictionnaire</span>"
   ]
  },
  {
   "cell_type": "markdown",
   "metadata": {},
   "source": [
    "Il est possible d' ajouter des entrées en utilisant la notation [ ] :"
   ]
  },
  {
   "cell_type": "code",
   "execution_count": null,
   "metadata": {},
   "outputs": [],
   "source": [
    "eleve['date_de_naissance']='04/05/06'"
   ]
  },
  {
   "cell_type": "code",
   "execution_count": null,
   "metadata": {},
   "outputs": [],
   "source": [
    "eleve"
   ]
  },
  {
   "cell_type": "markdown",
   "metadata": {},
   "source": [
    "Pour supprimer un élément, on utilise la commande del :"
   ]
  },
  {
   "cell_type": "code",
   "execution_count": null,
   "metadata": {},
   "outputs": [],
   "source": [
    "del eleve['Classe']"
   ]
  },
  {
   "cell_type": "code",
   "execution_count": null,
   "metadata": {},
   "outputs": [],
   "source": [
    "eleve"
   ]
  },
  {
   "cell_type": "markdown",
   "metadata": {},
   "source": [
    "### <span style=\"color: #ce0000\">Exercice 1</span>"
   ]
  },
  {
   "cell_type": "markdown",
   "metadata": {},
   "source": [
    "Construisez le dictionnaire \"annee\" des douze mois de l'année avec comme valeurs le nombre de jours\n",
    "respectif.\n",
    "\n",
    "Utilisez la méthode pprint() du module pprint pour afficher ce dictionnaire en colonne à l'écran."
   ]
  },
  {
   "cell_type": "code",
   "execution_count": null,
   "metadata": {},
   "outputs": [],
   "source": [
    "from pprint import pprint\n",
    "annee={ }\n",
    "\n",
    "\n",
    "pprint(annee)"
   ]
  },
  {
   "cell_type": "markdown",
   "metadata": {},
   "source": [
    "### <span style=\"color: #ce0000\">Exercice 2 </span>"
   ]
  },
  {
   "cell_type": "markdown",
   "metadata": {},
   "source": [
    "Voici un dictionnaire :"
   ]
  },
  {
   "cell_type": "code",
   "execution_count": null,
   "metadata": {},
   "outputs": [],
   "source": [
    "dico_fr_gb = {}\n",
    "dico_fr_gb['red'] = 'rouge'\n",
    "dico_fr_gb['yellow'] = 'jaune'\n",
    "dico_fr_gb['blue'] = 'bleu'\n",
    "dico_fr_gb['green'] = 'vert'\n",
    "dico_fr_gb['pink'] = 'rose'"
   ]
  },
  {
   "cell_type": "markdown",
   "metadata": {},
   "source": [
    "Écrivez une fonction qui échange les clés et les valeurs de ce dictionnaire ( on obtient alors un nouveau dictionnaire français/anglais).\n",
    "\n",
    "On suppose que le dictionnaire ne contient pas plusieurs valeurs identiques."
   ]
  },
  {
   "cell_type": "code",
   "execution_count": null,
   "metadata": {},
   "outputs": [],
   "source": [
    "def reverse(dico):\n",
    "    "
   ]
  },
  {
   "cell_type": "code",
   "execution_count": null,
   "metadata": {},
   "outputs": [],
   "source": [
    "reverse(dico_fr_gb)"
   ]
  },
  {
   "cell_type": "markdown",
   "metadata": {},
   "source": [
    "### <span style=\"color: #ce0000\">Exercice 3 </span>"
   ]
  },
  {
   "attachments": {
    "Capture%20d%E2%80%99%C3%A9cran%20du%202021-05-27%2011-32-53.png": {
     "image/png": "[encoded data removed]"
    }
   },
   "cell_type": "markdown",
   "metadata": {},
   "source": [
    "En cryptographie, un chiffre de substitution simple consiste à remplacer chaque lettre d'un texte\n",
    "par une autre lettre (toujours la même). On utilise pour cela une table chiffrante. Par exemple :\n",
    "\n",
    "![Capture%20d%E2%80%99%C3%A9cran%20du%202021-05-27%2011-32-53.png](attachment:Capture%20d%E2%80%99%C3%A9cran%20du%202021-05-27%2011-32-53.png)\n",
    "\n",
    "Ainsi, le déchiffrement de « UYSWUA » sera le mot «RENARD».\n",
    "\n",
    "Écrivez un programme qui permet de (dé)chiffrer un texte avec la table ci-dessus.\n",
    "\n",
    "ps : On peut parcourir les lettres d'une chaîne de caractères avec l'instruction :\n",
    "for lettre in chaine:"
   ]
  },
  {
   "cell_type": "code",
   "execution_count": null,
   "metadata": {},
   "outputs": [],
   "source": [
    "dico={ }    \n",
    "\n",
    "def decode(texte):\n",
    "   \n",
    "\n",
    "\n",
    "\n",
    "        "
   ]
  },
  {
   "cell_type": "code",
   "execution_count": null,
   "metadata": {},
   "outputs": [],
   "source": [
    "decode('UYSWUA')"
   ]
  },
  {
   "cell_type": "markdown",
   "metadata": {},
   "source": [
    "Utilisez votre programme pour déchiffrer le message suivant :\n",
    "HYHQYVMCSHDQPPUYAYVCBVMQMCMQFS"
   ]
  },
  {
   "cell_type": "code",
   "execution_count": null,
   "metadata": {},
   "outputs": [],
   "source": [
    "decode('HYHQYVMCSHDQPPUYAYVCBVMQMCMQFS')"
   ]
  },
  {
   "cell_type": "markdown",
   "metadata": {},
   "source": [
    "### <span style=\"color: #ce0000\">Exercice 4 </span>"
   ]
  },
  {
   "cell_type": "markdown",
   "metadata": {},
   "source": [
    "A l'aide d'un dictionnaire, écrire une fonction scrabble() qui prend comme argument un mot (sans le joker) et renvoie le nombre de point associé."
   ]
  },
  {
   "cell_type": "code",
   "execution_count": null,
   "metadata": {},
   "outputs": [],
   "source": [
    "points={ }\n",
    "\n",
    "def scrabble(mot):\n",
    "    "
   ]
  },
  {
   "cell_type": "code",
   "execution_count": null,
   "metadata": {},
   "outputs": [],
   "source": [
    "scrabble('kiwi')"
   ]
  }
 ],
 "metadata": {
  "kernelspec": {
   "display_name": "Python 3",
   "language": "python",
   "name": "python3"
  },
  "language_info": {
   "codemirror_mode": {
    "name": "ipython",
    "version": 3
   },
   "file_extension": ".py",
   "mimetype": "text/x-python",
   "name": "python",
   "nbconvert_exporter": "python",
   "pygments_lexer": "ipython3",
   "version": "3.7.6"
  }
 },
 "nbformat": 4,
 "nbformat_minor": 4
}
