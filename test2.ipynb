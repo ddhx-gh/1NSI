{
 "cells": [
  {
   "cell_type": "markdown",
   "metadata": {},
   "source": [
    "# Suites numériques et seuils"
   ]
  },
  {
   "cell_type": "markdown",
   "metadata": {},
   "source": [
    "## A) Premier cas"
   ]
  },
  {
   "cell_type": "markdown",
   "metadata": {},
   "source": [
    "Soit la suite numérique $(u_n)$, avec $n \\in \\mathbb N$ définie par $\\left\\{\\begin{matrix}u_o=0.1\\\\u_{n+1}=1.006\\times u_n\\end{matrix}\\right.$"
   ]
  },
  {
   "cell_type": "markdown",
   "metadata": {},
   "source": [
    "Ecrire une fonction ```suite(n)``` qui prend $n$ comme argument et qui renvoie la valeur du terme $u_n$ :"
   ]
  },
  {
   "cell_type": "code",
   "execution_count": 3,
   "metadata": {},
   "outputs": [],
   "source": [
    "def suite(n):\n",
    "    u=0.1\n",
    "    i=0\n",
    "    while i<=n:\n",
    "        u=1.006*u\n",
    "        i+=1\n",
    "        print(u)"
   ]
  },
  {
   "cell_type": "markdown",
   "metadata": {},
   "source": [
    "Testons cette fonction :"
   ]
  },
  {
   "cell_type": "code",
   "execution_count": 4,
   "metadata": {},
   "outputs": [
    {
     "name": "stdout",
     "output_type": "stream",
     "text": [
      "0.10060000000000001\n",
      "0.1012036\n",
      "0.1018108216\n",
      "0.1024216865296\n",
      "0.1030362166487776\n",
      "0.10365443394867027\n",
      "0.1042763605523623\n",
      "0.10490201871567646\n",
      "0.10553143082797052\n",
      "0.10616461941293834\n",
      "0.10680160712941597\n"
     ]
    }
   ],
   "source": [
    "suite(10)"
   ]
  },
  {
   "cell_type": "markdown",
   "metadata": {},
   "source": [
    "Grâce à cette fonction suite, déterminer par essais successifs, pour quelle valeur de $n$ on a $u_n>10000$"
   ]
  },
  {
   "cell_type": "markdown",
   "metadata": {},
   "source": [
    "Si cette démarche aboutit, convenez que ce n'est pas très élégant : écrire une fonction ```seuil(S)``` qui prenne comme argument la valeur d'un seuil (par exemple 10 000) et qui renvoie l'indice $n$ à partir duquel $u_n>S$. \n",
    "\n",
    "On pourra également afficher la valeur du terme correspondant pour s'assurer de la cohérence du résultat."
   ]
  },
  {
   "cell_type": "code",
   "execution_count": null,
   "metadata": {},
   "outputs": [],
   "source": [
    "def seuil(S):\n",
    "    "
   ]
  },
  {
   "cell_type": "markdown",
   "metadata": {},
   "source": [
    "Testons cette fonction :"
   ]
  },
  {
   "cell_type": "code",
   "execution_count": null,
   "metadata": {},
   "outputs": [],
   "source": [
    "seuil(10000)"
   ]
  },
  {
   "cell_type": "markdown",
   "metadata": {},
   "source": [
    "## B) Second cas"
   ]
  },
  {
   "cell_type": "markdown",
   "metadata": {},
   "source": [
    "Au niveau de la mer (altitude 0), la pression atmosphérique est de 1013 hectopascals.\n",
    "\n",
    "On admet que la pression atmosphérique diminue de 1,25 % à chaque élévation de 100m.\n",
    "\n",
    "Pour tout entier naturel $n$, on note $P_n$ la pression, exprimée en hectopascal, à l’atitude $100\\times n$, exprimée en mètres.\n",
    "Soit $P_n$ la suite numérique des valeurs prises par cette pression atmosphérique.\n",
    "On note $P_0=1013$."
   ]
  },
  {
   "cell_type": "markdown",
   "metadata": {},
   "source": [
    "Ecrire une fonction ```altitude(S)``` qui prend comme argument une pression $S$ (S comme seuil) et qui renvoie l'altitude à partir de laquelle la pression atmosphérique devient inférieure à $S$. "
   ]
  },
  {
   "cell_type": "code",
   "execution_count": null,
   "metadata": {},
   "outputs": [],
   "source": [
    "def altitude(S):\n",
    "   "
   ]
  },
  {
   "cell_type": "markdown",
   "metadata": {},
   "source": [
    "Testons cette fonction :"
   ]
  },
  {
   "cell_type": "code",
   "execution_count": null,
   "metadata": {},
   "outputs": [],
   "source": [
    "altitude(600)"
   ]
  },
  {
   "cell_type": "markdown",
   "metadata": {},
   "source": [
    "## C) Limite et seuil"
   ]
  },
  {
   "cell_type": "markdown",
   "metadata": {},
   "source": [
    "La méthode de Héron ou méthode babylonienne est une méthode d'extraction de racine carrée d'un nombre $A$, basée sur la convergence d'une suite $(u_n)$, avec $n \\in \\mathbb N$, définie par convergence :\n",
    "$\\left\\{\\begin{matrix}u_o=A\\\\u_{n+1}=\\frac{u_n+\\frac{A}{u_n}}{2}\\end{matrix}\\right.$ avec $A \\geq 0$.\n",
    "\n",
    "Ainsi, on a $\\lim\\limits_{n\\to +\\infty } u_n=\\sqrt 2$"
   ]
  },
  {
   "cell_type": "markdown",
   "metadata": {},
   "source": [
    "### Etape 1"
   ]
  },
  {
   "cell_type": "markdown",
   "metadata": {},
   "source": [
    "Ecrire une fonction ```racine(A,n)``` qui prend comme arguments :\n",
    "- A : un réel positif ou nul dont on veut connaitre la racine carrée,\n",
    "- n : un entier naturel.\n",
    "et qui renvoit tous les termes de $u_0$ à $u_n$. "
   ]
  },
  {
   "cell_type": "code",
   "execution_count": null,
   "metadata": {},
   "outputs": [],
   "source": [
    "def racine(A,n):\n",
    "    "
   ]
  },
  {
   "cell_type": "markdown",
   "metadata": {},
   "source": [
    "Testons cette fonction :"
   ]
  },
  {
   "cell_type": "code",
   "execution_count": null,
   "metadata": {},
   "outputs": [],
   "source": [
    "racine(2,5)"
   ]
  },
  {
   "cell_type": "markdown",
   "metadata": {},
   "source": [
    "Confrontez les résultats de votre programme avec la calculatrice pour $\\sqrt 3$ et $\\sqrt 5$."
   ]
  },
  {
   "cell_type": "markdown",
   "metadata": {},
   "source": [
    "### Etape 2"
   ]
  },
  {
   "cell_type": "markdown",
   "metadata": {},
   "source": [
    "On s'intéresse dans cette partie à la valeur de $\\sqrt 2$.\n",
    "\n",
    "En prenant comme (grossière) approximation de $\\sqrt 2$ la valeur : \n",
    "$\\sqrt 2 \\approx 1,4142135623730950488016887242096980785696718753769480731766797379$,\n",
    "\n",
    "\n",
    "Ecrire une fonction ```precision(p)``` qui prend comme argument un entier naturel non nul $p$,\n",
    "et qui renvoie le premier terme $u_n$ de la suite tel que $|u_n-\\sqrt 2| \\leq 10^{-p}$\n",
    "\n",
    "Note : la valeur absolue est une fonction qui se note ```abs``` en python."
   ]
  },
  {
   "cell_type": "code",
   "execution_count": null,
   "metadata": {},
   "outputs": [],
   "source": [
    "def precision(p):\n",
    "    "
   ]
  },
  {
   "cell_type": "markdown",
   "metadata": {},
   "source": [
    "Vérifions (avec des valeurs de $p$ \"pas trop\" grandes pour ne pas planter votre machine) :"
   ]
  },
  {
   "cell_type": "code",
   "execution_count": null,
   "metadata": {},
   "outputs": [],
   "source": [
    "precision(3)"
   ]
  },
  {
   "cell_type": "markdown",
   "metadata": {},
   "source": [
    "## D) Autres approximation"
   ]
  },
  {
   "cell_type": "markdown",
   "metadata": {},
   "source": [
    "### D.1) Le nombre pi"
   ]
  },
  {
   "cell_type": "markdown",
   "metadata": {},
   "source": [
    "Le nombre $\\pi$ peut être approché par la \"formule de Leibniz\" qui consiste à calculer la **somme** $S_n$ (on parle alors de série numérique) des $n$ permiers termes d'une suite définie par $u_n=\\frac{(-1)^n}{2n+1}$ sachant que $\\lim\\limits_{n\\to +\\infty } S_n=\\frac{\\pi}{4} $"
   ]
  },
  {
   "cell_type": "markdown",
   "metadata": {},
   "source": [
    "Ecrire un programme ```pi(n)``` prend comme argument un entier naturel $n$ et qui affiche la valeur approchée correspondante de $pi$."
   ]
  },
  {
   "cell_type": "code",
   "execution_count": null,
   "metadata": {},
   "outputs": [],
   "source": [
    "def pi(n):"
   ]
  },
  {
   "cell_type": "markdown",
   "metadata": {},
   "source": [
    "Testons ce programme :"
   ]
  },
  {
   "cell_type": "code",
   "execution_count": null,
   "metadata": {},
   "outputs": [],
   "source": [
    "pi(10)"
   ]
  },
  {
   "cell_type": "markdown",
   "metadata": {},
   "source": [
    "Vous pouvez comparer la valeur obtenue avec une (grossière) approximation de $\\pi$ :\n",
    "$\\pi \\approx 3.1415926535897932384626433832795028841971693993751058209749445923078164062862\n",
    "089986280348253421170679821480865132823066470938446095505822317253594081284811\n",
    "174502841027019385211055596446229489549303819644288109756659334461284756482337\n",
    "867831652712019091456485669234603486104543266482133936072602491412737245870066\n",
    "063155881748815209209628292540917153643678925903600113305305488204665213841469\n",
    "519415116094330572703657595919530921861173819326117931051185480744623799627495\n",
    "673518857527248912279381830119491298336733624406566430860213949463952247371907\n",
    "021798609437027705392171762931767523846748184676694051320005681271452635608277\n",
    "857713427577896091736371787214684409012249534301465495853710507922796892589235\n",
    "420199561121290219608640344181598136297747713099605187072113499999983729780499\n",
    "510597317328160963185950244594553469083026425223082533446850352619311881710100\n",
    "031378387528865875332083814206171776691473035982534904287554687311595628638823\n",
    "537875937519577818577805321712268066130019278766111959092164201989380952572010\n",
    "654858632788659361533818279682303019520353018529689957736225994138912497217752\n",
    "834791315155748572424541506959508295331168617278558890750983817546374649393192\n",
    "550604009277016711390098488240128583616035637076601047101819429555961989467678\n",
    "374494482553797747268471040475346462080466842590694912933136770289891521047521\n",
    "620569660240580381501935112533824300355876402474964732639141992726042699227967\n",
    "823547816360093417216412199245863150302861829745557067498385054945885869269956\n",
    "909272107975093029553211653449872027559602364806654991198818347977535663698074\n",
    "265425278625518184175746728909777727938000816470600161452491921732172147723501\n",
    "414419735685481613611573525521334757418494684385233239073941433345477624168625\n",
    "189835694855620992192221842725502542568876717904946016534668049886272327917860\n",
    "857843838279679766814541009538837863609506800642251252051173929848960841284886\n",
    "269456042419652850222106611863067442786220391949450471237137869609563643719172\n",
    "874677646575739624138908658326459958133904780275900994657640789512694683983525\n",
    "957098258226205224894077267194782684826014769909026401363944374553050682034962$\n",
    "\n",
    "\n",
    "Mais vous vous rendrez vite compte que vous allez faire chauffer votre processeur. En cas d'urgence : Noyau -> Interrompre.\n",
    "Ainsi, d'autres méthodes existent avec des algorithmes plus fins qui permettent de déterminer les décimales de $\\pi$ plus facilement."
   ]
  },
  {
   "cell_type": "markdown",
   "metadata": {},
   "source": [
    "### D.2) Le nombre e"
   ]
  },
  {
   "cell_type": "markdown",
   "metadata": {},
   "source": [
    "Le nombre $e$ est la base des logarithmes naturels, c'est-à-dire le nombre défini par $ln(e) = 1$.\n",
    "\n",
    "Cette constante mathématique est également appelée *nombre d'Euler* ou *constante de Néper* en référence aux mathématiciens Leonhard Euler et John Napier.\n",
    "\n",
    "On donne $e\\approx 2,718281828459045$"
   ]
  },
  {
   "cell_type": "markdown",
   "metadata": {},
   "source": [
    "Ce nombre peut être défini par :  "
   ]
  },
  {
   "cell_type": "markdown",
   "metadata": {},
   "source": [
    "$e = \\sum_{n=0}^{+\\infty} \\frac{1}{n!}$ avec $n!$ la factorielle de $n$ : $n!=n\\times (n-1) \\times (n-2)\\times \\dots \\times 3\\times 2 \\times 1$\n",
    "\n",
    "ou, dit autrement :\n",
    "\n",
    "$e=\\frac{1}{0!}+\\frac{1}{1!}+\\frac{1}{2!}+\\dots$"
   ]
  },
  {
   "cell_type": "markdown",
   "metadata": {},
   "source": [
    "Avant de programmer la recherche de $e$, écrire une fonction ```factorielle(n)``` qui prend comme argument un entier naturel $n$ et renvoie $n!$ :"
   ]
  },
  {
   "cell_type": "code",
   "execution_count": null,
   "metadata": {},
   "outputs": [],
   "source": [
    "def factorielle(n):"
   ]
  },
  {
   "cell_type": "code",
   "execution_count": null,
   "metadata": {},
   "outputs": [],
   "source": [
    "factorielle(5)"
   ]
  },
  {
   "cell_type": "markdown",
   "metadata": {},
   "source": [
    "En utilisant votre fonction ```factorielle(n)``` écrire un programme ```euler(n)``` qui prend comme argument le nombre $n$ de termes de la somme et qui renvoie l'approximation correspondante."
   ]
  },
  {
   "cell_type": "code",
   "execution_count": null,
   "metadata": {},
   "outputs": [],
   "source": [
    "def euler(n):    "
   ]
  },
  {
   "cell_type": "code",
   "execution_count": null,
   "metadata": {},
   "outputs": [],
   "source": [
    "euler(10)"
   ]
  }
 ],
 "metadata": {
  "kernelspec": {
   "display_name": "Python 3",
   "language": "python",
   "name": "python3"
  },
  "language_info": {
   "codemirror_mode": {
    "name": "ipython",
    "version": 3
   },
   "file_extension": ".py",
   "mimetype": "text/x-python",
   "name": "python",
   "nbconvert_exporter": "python",
   "pygments_lexer": "ipython3",
   "version": "3.7.6"
  }
 },
 "nbformat": 4,
 "nbformat_minor": 4
}
