{
 "cells": [
  {
   "cell_type": "markdown",
   "metadata": {},
   "source": [
    "# <span style=\"color: #204f78\"><center><font size=\"6\">Racines d'un polynôme et représentations graphiques de fonction polynôme de degré 2</font></center></span>"
   ]
  },
  {
   "cell_type": "markdown",
   "metadata": {},
   "source": [
    "<figure style=\"float: left;\">\n",
    "    <img src=\"https://github.com/ddhx-gh/1NSI/blob/b84a539e631f3a2be25bcb76a390c4b00fff8c06/logo2.png?raw=true\" width=\"150\">\n",
    "</figure>\n",
    "\n",
    "\n",
    "<BLOCKQUOTE style='background-color:#fff3ff;'>    \n",
    "\n",
    "Objectifs : à l'issue de ce notebook, vous saurez :\n",
    "- Comment, dans certains cas, trouver les racines d'un polynôme grace à un programme en python\n",
    " \n",
    "- Faire le lien entre les racines éventuelles d'un polynôme et la représentation graphique de cette fonction polynôme\n",
    "    \n",
    "</BLOCKQUOTE>   "
   ]
  },
  {
   "cell_type": "markdown",
   "metadata": {},
   "source": [
    "## <span style=\"color: #337dbd\">Première partie :  Racine(s) éventuelles d'une fonction poynôme</span>"
   ]
  },
  {
   "cell_type": "markdown",
   "metadata": {},
   "source": [
    "<BLOCKQUOTE style='background-color:#ff870e;'>    \n",
    "\n",
    "**Rappel :**\n",
    "Soit une fonction polynôme de degré 2 ; elle est définie sur $\\mathbb R$.\n",
    "\n",
    "Cette fonction peut s'écrire sous une forme développée comme $f(x)=ax^2+bx+c$\n",
    "\n",
    "On appelle racine du polynôme tout réel $x_0$ tel que $f(x_0)=0$\n",
    "    \n",
    "Chercher les racines éventuelles d'un polynôme consiste donc à chercher des valeurs de $x$ telles que $f(x)=0$\n",
    "</BLOCKQUOTE>   "
   ]
  },
  {
   "cell_type": "markdown",
   "metadata": {},
   "source": [
    "### <span style=\"color: #337dbd\">Exemple 1 : deux racines</span>"
   ]
  },
  {
   "cell_type": "markdown",
   "metadata": {},
   "source": [
    "Soit la fonction définie sur $\\mathbb R$ par $f(x)=x^2-x-2$"
   ]
  },
  {
   "cell_type": "markdown",
   "metadata": {},
   "source": [
    "Le programme ci-dessous permet d'afficher, pour des valeurs de $x$ $\\in [-10;10]$ par pas de 1, l'image de $x$ c'est à dire $f(x)$ :"
   ]
  },
  {
   "cell_type": "code",
   "execution_count": null,
   "metadata": {},
   "outputs": [],
   "source": [
    "for x in range(-10,11):\n",
    "    image=x**2-x-2\n",
    "    print(image)"
   ]
  },
  {
   "cell_type": "markdown",
   "metadata": {},
   "source": [
    "Ce qui vient de s'afficher est une liste de valeurs de $f(x)$.\n",
    "On s'aperçoit que $f(x)=0$ pour deux valeurs de $x$."
   ]
  },
  {
   "cell_type": "markdown",
   "metadata": {},
   "source": [
    "<BLOCKQUOTE style='background-color:#ff0004;'>    \n",
    "\n",
    "**ATTENTION :**\n",
    "Ce qui nous importe, c'est de savoir QUELLES SONT LES VALEURS DE $x$ QUI DONNENT $f(x)=0$\n",
    "</BLOCKQUOTE>   "
   ]
  },
  {
   "cell_type": "markdown",
   "metadata": {},
   "source": [
    "On va donc améliorer l'affichage en combinant, dans le ```print()``` l'affichage de texte et l'affichage du contenu des variables ```x``` et ```image``` :"
   ]
  },
  {
   "cell_type": "code",
   "execution_count": null,
   "metadata": {},
   "outputs": [],
   "source": [
    "for x in range(-10,11):\n",
    "    image=x**2-x-2\n",
    "    print('f(',x,')=',image)"
   ]
  },
  {
   "cell_type": "markdown",
   "metadata": {},
   "source": [
    "On voit que $f(-1)=0$ et $f(2)=0$ : $-1$ et $2$ sont appelés les **racines** du polynôme ; on les note le plus souvent $x_1=-1$ et $x_2=2$"
   ]
  },
  {
   "cell_type": "markdown",
   "metadata": {},
   "source": [
    "<BLOCKQUOTE style='background-color:#abd3d0;'>    \n",
    "\n",
    "**NOTE :**\n",
    "On verra dans la partie 2 que, la représentation graphique d'une fonction polynôme de degré 2 étant une parabole, il ne peut pas y avoir plus de 2 racines.\n",
    "</BLOCKQUOTE>   "
   ]
  },
  {
   "cell_type": "markdown",
   "metadata": {},
   "source": [
    "<BLOCKQUOTE style='background-color:#ff870e;'>    \n",
    "\n",
    "**Important :**\n",
    "La forme factorisée de ce polynôme sera $f(x)=a(x-x_1)(x-x_2)$\n",
    "</BLOCKQUOTE>   "
   ]
  },
  {
   "cell_type": "markdown",
   "metadata": {},
   "source": [
    "Ecrire la forme factorisée de $f(x)$ :"
   ]
  },
  {
   "cell_type": "markdown",
   "metadata": {},
   "source": [
    "f(x)=..."
   ]
  },
  {
   "cell_type": "markdown",
   "metadata": {},
   "source": [
    "### <span style=\"color: #337dbd\">Exemple 2 : une racine double </span>"
   ]
  },
  {
   "cell_type": "markdown",
   "metadata": {},
   "source": [
    "Soit la fonction dfinie sur $\\mathbb R$ par $f(x)=x^2+2x+1$."
   ]
  },
  {
   "cell_type": "markdown",
   "metadata": {},
   "source": [
    "En vous inspirant du second programme de l'exemple 1, écrire une fonction qui génère les images de $x$ par la fonction $f$ pour $x \\in [-20;20]$ par pas de 1. "
   ]
  },
  {
   "cell_type": "code",
   "execution_count": null,
   "metadata": {},
   "outputs": [],
   "source": []
  },
  {
   "cell_type": "markdown",
   "metadata": {},
   "source": [
    "Compléter le texte ci-dessous : (en cas de problème, pour y accéder, double cliquez sur la cellule) :"
   ]
  },
  {
   "cell_type": "markdown",
   "metadata": {},
   "source": [
    "Il existe ... racine(s) qui est/sont ..."
   ]
  },
  {
   "cell_type": "markdown",
   "metadata": {},
   "source": [
    "<BLOCKQUOTE style='background-color:#abd3d0;'>    \n",
    "\n",
    "**NOTE :**\n",
    "On verra dans la partie 2 que, la représentation graphique de cette fonction exclue la recherche d'autres racines.\n",
    "</BLOCKQUOTE>  "
   ]
  },
  {
   "cell_type": "markdown",
   "metadata": {},
   "source": [
    "<BLOCKQUOTE style='background-color:#ff870e;'>    \n",
    "\n",
    "**Important :**\n",
    "Dans le cas d'une racine unique, on la note le plus souvent $x_0$ et la forme factorisée de ce polynôme sera $f(x)=a(x-x_0)^2$\n",
    "</BLOCKQUOTE>   "
   ]
  },
  {
   "cell_type": "markdown",
   "metadata": {},
   "source": [
    "Ecrire la forme factorisée de f(x) :"
   ]
  },
  {
   "cell_type": "code",
   "execution_count": null,
   "metadata": {},
   "outputs": [],
   "source": [
    "f(x)=..."
   ]
  },
  {
   "cell_type": "markdown",
   "metadata": {},
   "source": [
    "### <span style=\"color: #337dbd\">Exemple 3 : pas de racine </span>"
   ]
  },
  {
   "cell_type": "markdown",
   "metadata": {},
   "source": [
    "Soit la fonction dfinie sur $\\mathbb R$ par $f(x)=3x^2+2x+5$."
   ]
  },
  {
   "cell_type": "markdown",
   "metadata": {},
   "source": [
    "En vous inspirant du second programme de l'exemple 1, écrire une fonction qui génère les images de $x$ par la fonction $f$ pour $x \\in [-20;20]$ par pas de 1. "
   ]
  },
  {
   "cell_type": "code",
   "execution_count": null,
   "metadata": {},
   "outputs": [],
   "source": []
  },
  {
   "cell_type": "markdown",
   "metadata": {},
   "source": [
    "Compléter le texte ci-dessous : (en cas de problème, pour y accéder, double cliquez sur la cellule) :"
   ]
  },
  {
   "cell_type": "markdown",
   "metadata": {},
   "source": [
    "Il existe ... racine(s) qui est/sont ..."
   ]
  },
  {
   "cell_type": "markdown",
   "metadata": {},
   "source": [
    "<BLOCKQUOTE style='background-color:#abd3d0;'>    \n",
    "\n",
    "**NOTE :**\n",
    "On verra dans la partie 2 que, la représentation graphique de cette fonction exclue la recherche de racines.\n",
    "</BLOCKQUOTE>  "
   ]
  },
  {
   "cell_type": "markdown",
   "metadata": {},
   "source": [
    "<BLOCKQUOTE style='background-color:#ff870e;'>    \n",
    "\n",
    "**Important :**\n",
    "Dans le cas où aucune racine réelle (vous verrez plus tard pourquoi je précise \"réelle\") n'existe, il n'existe pas de forme factorisée du polynôme.\n",
    "</BLOCKQUOTE>   "
   ]
  },
  {
   "cell_type": "markdown",
   "metadata": {},
   "source": [
    "## <span style=\"color: #337dbd\"> Deuxième partie : représentations graphiques de fonction polynôme de degré 2</span>"
   ]
  },
  {
   "cell_type": "markdown",
   "metadata": {},
   "source": [
    "### <span style=\"color: #337dbd\">Exemple 1 : deux racines</span>"
   ]
  },
  {
   "cell_type": "markdown",
   "metadata": {},
   "source": [
    "Reprenons la fonction définie sur $\\mathbb R$ par $f(x)=x^2-x-2$"
   ]
  },
  {
   "cell_type": "markdown",
   "metadata": {},
   "source": [
    "Le programme complet ci-dessous permet de tracer la représentation graphique de la fonction $f$ sur l'intervalle $[-10;10]$.\n",
    "\n",
    "Il s'agit pour vous de découvrir les étapes qui permettent le tracé, cela n'est pas exigible..."
   ]
  },
  {
   "cell_type": "code",
   "execution_count": null,
   "metadata": {
    "scrolled": false
   },
   "outputs": [],
   "source": [
    "from matplotlib import pyplot as plt     # importation d'outils pour le tracé\n",
    "abscisses=[x for x in range(-10,11)]     # création d'un tableau qui contient les valeurs des abscisses\n",
    "ordonnees=[]                             # création d'un tableau vide qui contiendra les ordonnées\n",
    "for x in abscisses:                      # pour chacune des valeurs prise par x dans l'intervalle [-10;10]\n",
    "    ordonnees.append(x**2-x-2)     # ajouter au tableau 'ordonnees' l'image de x par la fonction f\n",
    "plt.plot(abscisses,ordonnees)            # tracé de la représentation graphique                             \n",
    "plt.grid(True)                           # affichage d'une grille"
   ]
  },
  {
   "cell_type": "markdown",
   "metadata": {},
   "source": [
    "<BLOCKQUOTE style='background-color:#abd3d0;'>    \n",
    "\n",
    "**NOTE :**\n",
    "Je vous ai proposé ce tracé avec python mais nous allons par la suite \"visualiser\" les racines grâce à geogebra.\n",
    "</BLOCKQUOTE>  \n",
    "\n",
    "Exécutez la cellulle ci-dessous puis **réglez les coefficients $a$, $b$ et $c$** pour  voir la représentation graphique de la fonction $f(x)=x^2-x-2$ :"
   ]
  },
  {
   "cell_type": "code",
   "execution_count": null,
   "metadata": {},
   "outputs": [],
   "source": [
    "from IPython.display import HTML ; HTML(\"\"\"<iframe scrolling=\"no\" title=\"ax^2+bx+c\" src=\"https://www.geogebra.org/material/iframe/id/g9qrxgpa/width/1911/height/870/border/888888/sfsb/true/smb/false/stb/false/stbh/false/ai/false/asb/false/sri/false/rc/false/ld/false/sdz/false/ctl/false\" width=\"1911px\" height=\"870px\" style=\"border:0px;\"> </iframe>\"\"\")"
   ]
  },
  {
   "cell_type": "markdown",
   "metadata": {},
   "source": [
    "Comme on le voit bien ici, il existe deux points de la courbe dont l'ordonnée vaut 0.\n",
    "\n",
    "C'est bien l'abscisse de ces deux points que l'on nomme les racines et on retrouve $x_1=-1$ et $x_2=2$"
   ]
  },
  {
   "cell_type": "markdown",
   "metadata": {},
   "source": [
    "### <span style=\"color: #337dbd\">Exemple 2 : une racine double </span>"
   ]
  },
  {
   "cell_type": "markdown",
   "metadata": {},
   "source": [
    "Réutilisez la figure geogebra pour retrouver la représentation graphique de la fonction $f(x)=x^2+2x+1$ et visualiser l'unique point d'ordonnée nulle."
   ]
  },
  {
   "cell_type": "markdown",
   "metadata": {},
   "source": [
    "### <span style=\"color: #337dbd\">Exemple 3 : pas de racine </span>"
   ]
  },
  {
   "cell_type": "markdown",
   "metadata": {},
   "source": [
    "Réutilisez la figure geogebra pour retrouver la représentation graphique de la fonction $f(x)=3x^2+2x+5$ et visualiser l'absence de point d'ordonnée nulle."
   ]
  }
 ],
 "metadata": {
  "kernelspec": {
   "display_name": "Python 3",
   "language": "python",
   "name": "python3"
  },
  "language_info": {
   "codemirror_mode": {
    "name": "ipython",
    "version": 3
   },
   "file_extension": ".py",
   "mimetype": "text/x-python",
   "name": "python",
   "nbconvert_exporter": "python",
   "pygments_lexer": "ipython3",
   "version": "3.7.6"
  }
 },
 "nbformat": 4,
 "nbformat_minor": 4
}
