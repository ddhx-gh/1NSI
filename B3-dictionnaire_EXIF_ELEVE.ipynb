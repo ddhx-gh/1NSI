{
 "cells": [
  {
   "cell_type": "markdown",
   "metadata": {},
   "source": [
    "## <span style=\"color: #204f78\"><center><font size=\"6\">Exemple de dictionnaire : données EXIF</font></center></span>"
   ]
  },
  {
   "cell_type": "markdown",
   "metadata": {},
   "source": [
    "<figure style=\"float: left;\">\n",
    "    <img src=\"https://github.com/ddhx-gh/1NSI/blob/b84a539e631f3a2be25bcb76a390c4b00fff8c06/logo2.png?raw=true\" width=\"150\">\n",
    "</figure>\n",
    "\n",
    "\n",
    "<BLOCKQUOTE style='background-color:#fff3ff;'>    \n",
    "\n",
    "Objectifs : à l'issue de ce notebook, vous saurez :\n",
    "- accéder aux données EXIF d'une photo\n",
    "- modifier les données EXIF d'une photo\n",
    "    \n",
    "</BLOCKQUOTE>  "
   ]
  },
  {
   "cell_type": "markdown",
   "metadata": {},
   "source": [
    "Lorsqu'un appareil photo numérique sauvegarde une photo, il enregistre l'image mais aussi tout un tas d'autres informations: marque de l'appareil, date,...et même les coordonnées gps si l'appareil sait se situer! Ces données sont stockées dans un fichier EXIF comme 'Exchangeable Image File'."
   ]
  },
  {
   "cell_type": "markdown",
   "metadata": {},
   "source": [
    "En python, la bibliothèque PIL contient les modules Image et ExifTags qui permettent d'acceder rapidement aux tags."
   ]
  },
  {
   "cell_type": "markdown",
   "metadata": {},
   "source": [
    "## <span style=\"color: #337dbd\">Première partie : Extraction de l'ensemble des données</span>"
   ]
  },
  {
   "cell_type": "markdown",
   "metadata": {},
   "source": [
    "![photo1.jpg](https://github.com/ddhx-gh/1NSI/blob/main/photo1.jpg?raw=true)"
   ]
  },
  {
   "cell_type": "markdown",
   "metadata": {},
   "source": [
    "Le code ci-dessous permet de parcourir le fichier EXIF associé à cette photo :"
   ]
  },
  {
   "cell_type": "code",
   "execution_count": null,
   "metadata": {},
   "outputs": [],
   "source": [
    "from PIL import Image, ExifTags\n",
    "\n",
    "def get_exif(image):\n",
    "    ret = {}\n",
    "    img = Image.open(image)\n",
    "    info = img._getexif()\n",
    "    for tag, value in info.items():\n",
    "        decoded = ExifTags.TAGS.get(tag, tag)\n",
    "        if tag in ExifTags.TAGS:\n",
    "            ret[decoded] = value\n",
    "    return ret\n",
    "\n",
    "donnees=get_exif('photo1.jpg')"
   ]
  },
  {
   "cell_type": "code",
   "execution_count": null,
   "metadata": {},
   "outputs": [],
   "source": [
    "donnees"
   ]
  },
  {
   "cell_type": "markdown",
   "metadata": {},
   "source": [
    "Une lecture attentive permet de repérer qu'on est bien en présence d'un dictionnaire."
   ]
  },
  {
   "cell_type": "markdown",
   "metadata": {},
   "source": [
    "Vous constatez que beaucoup d'informations sont consignées dans le fichier EXIF.\n",
    "Compléter :\n",
    "\n",
    "1. Marque de l'appareil :\n",
    "2. Modèle de l'apareil :\n",
    "3. Date de prise de vue :\n",
    "4. Heure de prise de vue :\n",
    "5. Temps d'exposition :\n",
    "6. Orientation :"
   ]
  },
  {
   "cell_type": "markdown",
   "metadata": {},
   "source": [
    "## <span style=\"color: #337dbd\"> Deuxième partie : Récupération de données ciblées</span>"
   ]
  },
  {
   "cell_type": "markdown",
   "metadata": {},
   "source": [
    "Le dictionnaire ``donnees`` a l'une de ses clés qui s'appelle `GPSInfo`."
   ]
  },
  {
   "cell_type": "markdown",
   "metadata": {},
   "source": [
    "Ecrire une fonction ``ext_GPS()`` qui prend comme argument le dictionnaire ``donnees`` et renvoie la valeur (qui est également un dictionnaire que l'on appelera ``dico_gps``) associée à la clé `GPSInfo`:"
   ]
  },
  {
   "cell_type": "code",
   "execution_count": null,
   "metadata": {},
   "outputs": [],
   "source": [
    "def ext_GPS(dico):\n",
    "   \n",
    "\n",
    "\n",
    "\n",
    "\n",
    "dico_gps=ext_GPS(donnees)"
   ]
  },
  {
   "cell_type": "code",
   "execution_count": null,
   "metadata": {},
   "outputs": [],
   "source": [
    "dico_gps"
   ]
  },
  {
   "attachments": {
    "donnees_gps.png": {
     "image/png": "[encoded data removed]"
    }
   },
   "cell_type": "markdown",
   "metadata": {},
   "source": [
    "Les données GPS peuvent être présentées sous différents formats :\n",
    "![donnees_gps.png](attachment:donnees_gps.png)\n",
    "\n",
    "La lecture de cette position est N : 38°54'3.540''    E : 1°26'1.920'' le 22 mai 2016\n",
    "Cherchez donc où ça se trouve!"
   ]
  },
  {
   "cell_type": "markdown",
   "metadata": {},
   "source": [
    "### <span style=\"color: #ce0000\">Exercice 1 </span>"
   ]
  },
  {
   "cell_type": "markdown",
   "metadata": {},
   "source": [
    "Vous disposez d'une nouvelle photo appelée photo2.jpg"
   ]
  },
  {
   "cell_type": "markdown",
   "metadata": {},
   "source": [
    "où et quand a été prise cette photo?\n",
    "\n",
    "![photo2.jpg](https://github.com/ddhx-gh/1NSI/blob/main/photo2.jpg?raw=true)"
   ]
  },
  {
   "cell_type": "code",
   "execution_count": null,
   "metadata": {},
   "outputs": [],
   "source": [
    "from PIL import Image, ExifTags\n",
    "\n"
   ]
  },
  {
   "cell_type": "code",
   "execution_count": null,
   "metadata": {},
   "outputs": [],
   "source": [
    "donnees"
   ]
  },
  {
   "cell_type": "code",
   "execution_count": null,
   "metadata": {},
   "outputs": [],
   "source": []
  },
  {
   "cell_type": "code",
   "execution_count": null,
   "metadata": {
    "scrolled": true
   },
   "outputs": [],
   "source": [
    "dico_gps"
   ]
  },
  {
   "cell_type": "markdown",
   "metadata": {},
   "source": [
    "Réponses :\n",
    "1. données gps (attention au format de données utilisé) :\n",
    "2. nom du lieu :\n",
    "3. date :\n",
    "4. heure :"
   ]
  },
  {
   "cell_type": "markdown",
   "metadata": {},
   "source": [
    "### <span style=\"color: #ce0000\">Exercice 2 </span>"
   ]
  },
  {
   "cell_type": "markdown",
   "metadata": {},
   "source": [
    "Prenez une photo dans votre téléphone (ou sur internet) et faites moi croire que la photo date du week-end dernier dans un lieu lointain que vous aurez préalablement choisi.\n",
    "\n",
    "Pour information, le fichier EXIF de la photo que vous aurez choisi ne contiendra peut-être pas de tag ``GPSInfo``, mais rien ne vous empêche d'ajouter un couple clé/valeur à votre dictionnaire...\n",
    "\n",
    "Déposez votre photo ainsi trafiquée dans la zone de dépot du moodle. "
   ]
  }
 ],
 "metadata": {
  "kernelspec": {
   "display_name": "Python 3",
   "language": "python",
   "name": "python3"
  },
  "language_info": {
   "codemirror_mode": {
    "name": "ipython",
    "version": 3
   },
   "file_extension": ".py",
   "mimetype": "text/x-python",
   "name": "python",
   "nbconvert_exporter": "python",
   "pygments_lexer": "ipython3",
   "version": "3.7.6"
  }
 },
 "nbformat": 4,
 "nbformat_minor": 4
}
